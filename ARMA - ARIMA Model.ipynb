{
 "cells": [
  {
   "cell_type": "code",
   "execution_count": 12,
   "metadata": {
    "collapsed": true
   },
   "outputs": [],
   "source": [
    "import pandas as pd\n",
    "import numpy as np\n",
    "%matplotlib inline"
   ]
  },
  {
   "cell_type": "code",
   "execution_count": 13,
   "metadata": {
    "collapsed": true
   },
   "outputs": [],
   "source": [
    "# Load a non-stationary dataset\n",
    "df1 = pd.read_csv(\"Data/airline_passengers.csv\",parse_dates=True,index_col=\"Month\")\n",
    "df1 = df1.asfreq('MS')"
   ]
  },
  {
   "cell_type": "code",
   "execution_count": 14,
   "metadata": {
    "collapsed": true
   },
   "outputs": [],
   "source": [
    "# Load a stationary dataset\n",
    "df2 = pd.read_csv(\"Data/DailyTotalFemaleBirths.csv\",parse_dates=True,index_col=\"Date\")\n",
    "df2 = df2.asfreq('D')"
   ]
  },
  {
   "cell_type": "code",
   "execution_count": 27,
   "metadata": {
    "collapsed": true
   },
   "outputs": [],
   "source": [
    "df3 = pd.read_csv(\"Data/TradeInventories.csv\",parse_dates=True,index_col=\"Date\")\n",
    "df3 = df3.asfreq('MS')"
   ]
  },
  {
   "cell_type": "code",
   "execution_count": 26,
   "metadata": {},
   "outputs": [],
   "source": [
    "# pip install pmdarima - Grid search\n",
    "from pmdarima import auto_arima"
   ]
  },
  {
   "cell_type": "code",
   "execution_count": 16,
   "metadata": {
    "collapsed": true
   },
   "outputs": [],
   "source": [
    "import warnings\n",
    "warnings.filterwarnings('ignore')"
   ]
  },
  {
   "cell_type": "code",
   "execution_count": 20,
   "metadata": {},
   "outputs": [
    {
     "name": "stdout",
     "output_type": "stream",
     "text": [
      "Fit ARIMA: order=(0, 1, 0); AIC=2650.760, BIC=2658.555, Fit time=0.004 seconds\n",
      "Fit ARIMA: order=(1, 1, 0); AIC=2565.234, BIC=2576.925, Fit time=0.024 seconds\n",
      "Fit ARIMA: order=(0, 1, 1); AIC=2463.584, BIC=2475.275, Fit time=0.052 seconds\n",
      "Fit ARIMA: order=(1, 1, 1); AIC=2460.154, BIC=2475.742, Fit time=0.083 seconds\n",
      "Fit ARIMA: order=(1, 1, 2); AIC=2460.515, BIC=2480.000, Fit time=0.257 seconds\n",
      "Fit ARIMA: order=(2, 1, 2); AIC=2461.875, BIC=2485.258, Fit time=0.440 seconds\n",
      "Fit ARIMA: order=(2, 1, 1); AIC=2461.271, BIC=2480.757, Fit time=0.120 seconds\n",
      "Total fit time: 0.988 seconds\n"
     ]
    }
   ],
   "source": [
    "#initializing - stepwise fit\n",
    "stepwise_fit_1 = auto_arima(df2['Births'].astype(np.float),start_p=0,start_q=0,max_p=6,max_q=3,seasonal=False,trace=True)"
   ]
  },
  {
   "cell_type": "code",
   "execution_count": 21,
   "metadata": {},
   "outputs": [
    {
     "data": {
      "text/html": [
       "<table class=\"simpletable\">\n",
       "<caption>ARIMA Model Results</caption>\n",
       "<tr>\n",
       "  <th>Dep. Variable:</th>        <td>D.y</td>       <th>  No. Observations:  </th>    <td>364</td>   \n",
       "</tr>\n",
       "<tr>\n",
       "  <th>Model:</th>          <td>ARIMA(1, 1, 1)</td>  <th>  Log Likelihood     </th> <td>-1226.077</td>\n",
       "</tr>\n",
       "<tr>\n",
       "  <th>Method:</th>             <td>css-mle</td>     <th>  S.D. of innovations</th>   <td>7.000</td>  \n",
       "</tr>\n",
       "<tr>\n",
       "  <th>Date:</th>          <td>Sun, 11 Aug 2019</td> <th>  AIC                </th> <td>2460.154</td> \n",
       "</tr>\n",
       "<tr>\n",
       "  <th>Time:</th>              <td>05:48:54</td>     <th>  BIC                </th> <td>2475.742</td> \n",
       "</tr>\n",
       "<tr>\n",
       "  <th>Sample:</th>                <td>1</td>        <th>  HQIC               </th> <td>2466.350</td> \n",
       "</tr>\n",
       "<tr>\n",
       "  <th></th>                       <td> </td>        <th>                     </th>     <td> </td>    \n",
       "</tr>\n",
       "</table>\n",
       "<table class=\"simpletable\">\n",
       "<tr>\n",
       "      <td></td>         <th>coef</th>     <th>std err</th>      <th>z</th>      <th>P>|z|</th>  <th>[0.025</th>    <th>0.975]</th>  \n",
       "</tr>\n",
       "<tr>\n",
       "  <th>const</th>     <td>    0.0152</td> <td>    0.014</td> <td>    1.068</td> <td> 0.286</td> <td>   -0.013</td> <td>    0.043</td>\n",
       "</tr>\n",
       "<tr>\n",
       "  <th>ar.L1.D.y</th> <td>    0.1299</td> <td>    0.056</td> <td>    2.334</td> <td> 0.020</td> <td>    0.021</td> <td>    0.239</td>\n",
       "</tr>\n",
       "<tr>\n",
       "  <th>ma.L1.D.y</th> <td>   -0.9694</td> <td>    0.019</td> <td>  -51.415</td> <td> 0.000</td> <td>   -1.006</td> <td>   -0.932</td>\n",
       "</tr>\n",
       "</table>\n",
       "<table class=\"simpletable\">\n",
       "<caption>Roots</caption>\n",
       "<tr>\n",
       "    <td></td>   <th>            Real</th>  <th>         Imaginary</th> <th>         Modulus</th>  <th>        Frequency</th>\n",
       "</tr>\n",
       "<tr>\n",
       "  <th>AR.1</th> <td>           7.6996</td> <td>          +0.0000j</td> <td>           7.6996</td> <td>           0.0000</td>\n",
       "</tr>\n",
       "<tr>\n",
       "  <th>MA.1</th> <td>           1.0316</td> <td>          +0.0000j</td> <td>           1.0316</td> <td>           0.0000</td>\n",
       "</tr>\n",
       "</table>"
      ],
      "text/plain": [
       "<class 'statsmodels.iolib.summary.Summary'>\n",
       "\"\"\"\n",
       "                             ARIMA Model Results                              \n",
       "==============================================================================\n",
       "Dep. Variable:                    D.y   No. Observations:                  364\n",
       "Model:                 ARIMA(1, 1, 1)   Log Likelihood               -1226.077\n",
       "Method:                       css-mle   S.D. of innovations              7.000\n",
       "Date:                Sun, 11 Aug 2019   AIC                           2460.154\n",
       "Time:                        05:48:54   BIC                           2475.742\n",
       "Sample:                             1   HQIC                          2466.350\n",
       "                                                                              \n",
       "==============================================================================\n",
       "                 coef    std err          z      P>|z|      [0.025      0.975]\n",
       "------------------------------------------------------------------------------\n",
       "const          0.0152      0.014      1.068      0.286      -0.013       0.043\n",
       "ar.L1.D.y      0.1299      0.056      2.334      0.020       0.021       0.239\n",
       "ma.L1.D.y     -0.9694      0.019    -51.415      0.000      -1.006      -0.932\n",
       "                                    Roots                                    \n",
       "=============================================================================\n",
       "                  Real          Imaginary           Modulus         Frequency\n",
       "-----------------------------------------------------------------------------\n",
       "AR.1            7.6996           +0.0000j            7.6996            0.0000\n",
       "MA.1            1.0316           +0.0000j            1.0316            0.0000\n",
       "-----------------------------------------------------------------------------\n",
       "\"\"\""
      ]
     },
     "execution_count": 21,
     "metadata": {},
     "output_type": "execute_result"
    }
   ],
   "source": [
    "#Best performing model\n",
    "stepwise_fit_1.summary()"
   ]
  },
  {
   "cell_type": "code",
   "execution_count": 22,
   "metadata": {},
   "outputs": [
    {
     "name": "stdout",
     "output_type": "stream",
     "text": [
      "Fit ARIMA: order=(0, 1, 0) seasonal_order=(1, 1, 1, 12); AIC=1034.075, BIC=1045.576, Fit time=0.556 seconds\n",
      "Fit ARIMA: order=(0, 1, 0) seasonal_order=(0, 1, 0, 12); AIC=1033.479, BIC=1039.229, Fit time=0.028 seconds\n",
      "Fit ARIMA: order=(1, 1, 0) seasonal_order=(1, 1, 0, 12); AIC=1022.316, BIC=1033.817, Fit time=0.414 seconds\n",
      "Fit ARIMA: order=(0, 1, 1) seasonal_order=(0, 1, 1, 12); AIC=1022.904, BIC=1034.405, Fit time=0.418 seconds\n",
      "Fit ARIMA: order=(1, 1, 0) seasonal_order=(0, 1, 0, 12); AIC=1022.343, BIC=1030.968, Fit time=0.089 seconds\n",
      "Fit ARIMA: order=(1, 1, 0) seasonal_order=(2, 1, 0, 12); AIC=1021.137, BIC=1035.513, Fit time=1.084 seconds\n",
      "Fit ARIMA: order=(1, 1, 0) seasonal_order=(2, 1, 1, 12); AIC=1017.164, BIC=1034.415, Fit time=3.440 seconds\n",
      "Fit ARIMA: order=(0, 1, 0) seasonal_order=(2, 1, 1, 12); AIC=1033.844, BIC=1048.220, Fit time=2.859 seconds\n",
      "Fit ARIMA: order=(2, 1, 0) seasonal_order=(2, 1, 1, 12); AIC=1018.207, BIC=1038.333, Fit time=4.213 seconds\n",
      "Fit ARIMA: order=(1, 1, 1) seasonal_order=(2, 1, 1, 12); AIC=1017.785, BIC=1037.911, Fit time=3.413 seconds\n",
      "Fit ARIMA: order=(2, 1, 1) seasonal_order=(2, 1, 1, 12); AIC=1015.631, BIC=1038.633, Fit time=4.959 seconds\n",
      "Fit ARIMA: order=(2, 1, 1) seasonal_order=(1, 1, 1, 12); AIC=1017.772, BIC=1037.898, Fit time=2.084 seconds\n",
      "Fit ARIMA: order=(2, 1, 1) seasonal_order=(2, 1, 0, 12); AIC=1017.106, BIC=1037.233, Fit time=4.247 seconds\n",
      "Fit ARIMA: order=(2, 1, 1) seasonal_order=(2, 1, 2, 12); AIC=1020.963, BIC=1046.840, Fit time=6.468 seconds\n",
      "Fit ARIMA: order=(2, 1, 1) seasonal_order=(1, 1, 0, 12); AIC=1017.077, BIC=1034.328, Fit time=2.242 seconds\n",
      "Fit ARIMA: order=(3, 1, 1) seasonal_order=(2, 1, 1, 12); AIC=1018.139, BIC=1044.016, Fit time=8.766 seconds\n",
      "Fit ARIMA: order=(2, 1, 2) seasonal_order=(2, 1, 1, 12); AIC=1015.834, BIC=1041.710, Fit time=7.130 seconds\n",
      "Fit ARIMA: order=(3, 1, 2) seasonal_order=(2, 1, 1, 12); AIC=1018.405, BIC=1047.157, Fit time=8.695 seconds\n",
      "Total fit time: 61.182 seconds\n"
     ]
    }
   ],
   "source": [
    "stepwise_fit_2 = auto_arima(df1['Thousands of Passengers'].astype(np.float),start_p=0,start_q=0,max_p=4,max_q=4,\n",
    "                           seasonal=True,trace=True,m=12)"
   ]
  },
  {
   "cell_type": "code",
   "execution_count": 23,
   "metadata": {},
   "outputs": [
    {
     "data": {
      "text/html": [
       "<table class=\"simpletable\">\n",
       "<caption>Statespace Model Results</caption>\n",
       "<tr>\n",
       "  <th>Dep. Variable:</th>                  <td>y</td>               <th>  No. Observations:  </th>    <td>144</td>  \n",
       "</tr>\n",
       "<tr>\n",
       "  <th>Model:</th>           <td>SARIMAX(2, 1, 1)x(2, 1, 1, 12)</td> <th>  Log Likelihood     </th> <td>-499.816</td>\n",
       "</tr>\n",
       "<tr>\n",
       "  <th>Date:</th>                   <td>Sun, 11 Aug 2019</td>        <th>  AIC                </th> <td>1015.631</td>\n",
       "</tr>\n",
       "<tr>\n",
       "  <th>Time:</th>                       <td>05:51:51</td>            <th>  BIC                </th> <td>1038.633</td>\n",
       "</tr>\n",
       "<tr>\n",
       "  <th>Sample:</th>                         <td>0</td>               <th>  HQIC               </th> <td>1024.978</td>\n",
       "</tr>\n",
       "<tr>\n",
       "  <th></th>                             <td> - 144</td>             <th>                     </th>     <td> </td>   \n",
       "</tr>\n",
       "<tr>\n",
       "  <th>Covariance Type:</th>               <td>opg</td>              <th>                     </th>     <td> </td>   \n",
       "</tr>\n",
       "</table>\n",
       "<table class=\"simpletable\">\n",
       "<tr>\n",
       "      <td></td>         <th>coef</th>     <th>std err</th>      <th>z</th>      <th>P>|z|</th>  <th>[0.025</th>    <th>0.975]</th>  \n",
       "</tr>\n",
       "<tr>\n",
       "  <th>intercept</th> <td>    0.0005</td> <td>    0.014</td> <td>    0.034</td> <td> 0.973</td> <td>   -0.027</td> <td>    0.028</td>\n",
       "</tr>\n",
       "<tr>\n",
       "  <th>ar.L1</th>     <td>    0.5533</td> <td>    0.108</td> <td>    5.115</td> <td> 0.000</td> <td>    0.341</td> <td>    0.765</td>\n",
       "</tr>\n",
       "<tr>\n",
       "  <th>ar.L2</th>     <td>    0.2307</td> <td>    0.104</td> <td>    2.218</td> <td> 0.027</td> <td>    0.027</td> <td>    0.435</td>\n",
       "</tr>\n",
       "<tr>\n",
       "  <th>ma.L1</th>     <td>   -0.9612</td> <td>    0.070</td> <td>  -13.802</td> <td> 0.000</td> <td>   -1.098</td> <td>   -0.825</td>\n",
       "</tr>\n",
       "<tr>\n",
       "  <th>ar.S.L12</th>  <td>    0.6889</td> <td>    0.316</td> <td>    2.183</td> <td> 0.029</td> <td>    0.071</td> <td>    1.307</td>\n",
       "</tr>\n",
       "<tr>\n",
       "  <th>ar.S.L24</th>  <td>    0.2995</td> <td>    0.125</td> <td>    2.404</td> <td> 0.016</td> <td>    0.055</td> <td>    0.544</td>\n",
       "</tr>\n",
       "<tr>\n",
       "  <th>ma.S.L12</th>  <td>   -0.9466</td> <td>    0.804</td> <td>   -1.178</td> <td> 0.239</td> <td>   -2.521</td> <td>    0.628</td>\n",
       "</tr>\n",
       "<tr>\n",
       "  <th>sigma2</th>    <td>  115.0726</td> <td>   48.960</td> <td>    2.350</td> <td> 0.019</td> <td>   19.113</td> <td>  211.032</td>\n",
       "</tr>\n",
       "</table>\n",
       "<table class=\"simpletable\">\n",
       "<tr>\n",
       "  <th>Ljung-Box (Q):</th>          <td>53.77</td> <th>  Jarque-Bera (JB):  </th> <td>14.97</td>\n",
       "</tr>\n",
       "<tr>\n",
       "  <th>Prob(Q):</th>                <td>0.07</td>  <th>  Prob(JB):          </th> <td>0.00</td> \n",
       "</tr>\n",
       "<tr>\n",
       "  <th>Heteroskedasticity (H):</th> <td>2.80</td>  <th>  Skew:              </th> <td>0.06</td> \n",
       "</tr>\n",
       "<tr>\n",
       "  <th>Prob(H) (two-sided):</th>    <td>0.00</td>  <th>  Kurtosis:          </th> <td>4.65</td> \n",
       "</tr>\n",
       "</table><br/><br/>Warnings:<br/>[1] Covariance matrix calculated using the outer product of gradients (complex-step)."
      ],
      "text/plain": [
       "<class 'statsmodels.iolib.summary.Summary'>\n",
       "\"\"\"\n",
       "                                 Statespace Model Results                                 \n",
       "==========================================================================================\n",
       "Dep. Variable:                                  y   No. Observations:                  144\n",
       "Model:             SARIMAX(2, 1, 1)x(2, 1, 1, 12)   Log Likelihood                -499.816\n",
       "Date:                            Sun, 11 Aug 2019   AIC                           1015.631\n",
       "Time:                                    05:51:51   BIC                           1038.633\n",
       "Sample:                                         0   HQIC                          1024.978\n",
       "                                            - 144                                         \n",
       "Covariance Type:                              opg                                         \n",
       "==============================================================================\n",
       "                 coef    std err          z      P>|z|      [0.025      0.975]\n",
       "------------------------------------------------------------------------------\n",
       "intercept      0.0005      0.014      0.034      0.973      -0.027       0.028\n",
       "ar.L1          0.5533      0.108      5.115      0.000       0.341       0.765\n",
       "ar.L2          0.2307      0.104      2.218      0.027       0.027       0.435\n",
       "ma.L1         -0.9612      0.070    -13.802      0.000      -1.098      -0.825\n",
       "ar.S.L12       0.6889      0.316      2.183      0.029       0.071       1.307\n",
       "ar.S.L24       0.2995      0.125      2.404      0.016       0.055       0.544\n",
       "ma.S.L12      -0.9466      0.804     -1.178      0.239      -2.521       0.628\n",
       "sigma2       115.0726     48.960      2.350      0.019      19.113     211.032\n",
       "===================================================================================\n",
       "Ljung-Box (Q):                       53.77   Jarque-Bera (JB):                14.97\n",
       "Prob(Q):                              0.07   Prob(JB):                         0.00\n",
       "Heteroskedasticity (H):               2.80   Skew:                             0.06\n",
       "Prob(H) (two-sided):                  0.00   Kurtosis:                         4.65\n",
       "===================================================================================\n",
       "\n",
       "Warnings:\n",
       "[1] Covariance matrix calculated using the outer product of gradients (complex-step).\n",
       "\"\"\""
      ]
     },
     "execution_count": 23,
     "metadata": {},
     "output_type": "execute_result"
    }
   ],
   "source": [
    "stepwise_fit_2.summary()"
   ]
  },
  {
   "cell_type": "markdown",
   "metadata": {},
   "source": [
    "Building ARMA and ARIMA model"
   ]
  },
  {
   "cell_type": "code",
   "execution_count": 24,
   "metadata": {
    "collapsed": true
   },
   "outputs": [],
   "source": [
    "from statsmodels.tsa.arima_model import ARMA,ARIMA,ARMAResults,ARIMAResults"
   ]
  },
  {
   "cell_type": "code",
   "execution_count": 25,
   "metadata": {
    "collapsed": true
   },
   "outputs": [],
   "source": [
    "from statsmodels.graphics.tsaplots import plot_acf,plot_pacf"
   ]
  },
  {
   "cell_type": "markdown",
   "metadata": {},
   "source": [
    "# ARMA"
   ]
  },
  {
   "cell_type": "code",
   "execution_count": 29,
   "metadata": {
    "collapsed": true
   },
   "outputs": [],
   "source": [
    "df2_arma = df2[:120]"
   ]
  },
  {
   "cell_type": "code",
   "execution_count": 31,
   "metadata": {},
   "outputs": [
    {
     "data": {
      "text/plain": [
       "Births    120\n",
       "dtype: int64"
      ]
     },
     "execution_count": 31,
     "metadata": {},
     "output_type": "execute_result"
    }
   ],
   "source": [
    "df2_arma.count()"
   ]
  },
  {
   "cell_type": "code",
   "execution_count": 33,
   "metadata": {},
   "outputs": [
    {
     "data": {
      "text/plain": [
       "<matplotlib.axes._subplots.AxesSubplot at 0x2afa5df21d0>"
      ]
     },
     "execution_count": 33,
     "metadata": {},
     "output_type": "execute_result"
    },
    {
     "data": {
      "image/png": "[encoded data removed]",
      "text/plain": [
       "<matplotlib.figure.Figure at 0x2afa5fdca90>"
      ]
     },
     "metadata": {},
     "output_type": "display_data"
    }
   ],
   "source": [
    "df2_arma.plot() #Stationary"
   ]
  },
  {
   "cell_type": "code",
   "execution_count": 34,
   "metadata": {
    "collapsed": true
   },
   "outputs": [],
   "source": [
    "#Check for stationary - ADF test\n",
    "from statsmodels.tsa.stattools import adfuller\n",
    "\n",
    "def adf_test(series,title=''):\n",
    "    \"\"\"\n",
    "    Pass in a time series and an optional title, returns an ADF report\n",
    "    \"\"\"\n",
    "    print(f'Augmented Dickey-Fuller Test: {title}')\n",
    "    result = adfuller(series.dropna(),autolag='AIC') # .dropna() handles differenced data\n",
    "    \n",
    "    labels = ['ADF test statistic','p-value','# lags used','# observations']\n",
    "    out = pd.Series(result[0:4],index=labels)\n",
    "\n",
    "    for key,val in result[4].items():\n",
    "        out[f'critical value ({key})']=val\n",
    "        \n",
    "    print(out.to_string())          # .to_string() removes the line \"dtype: float64\"\n",
    "    \n",
    "    if result[1] <= 0.05:\n",
    "        print(\"Strong evidence against the null hypothesis\")\n",
    "        print(\"Reject the null hypothesis\")\n",
    "        print(\"Data has no unit root and is stationary\")\n",
    "    else:\n",
    "        print(\"Weak evidence against the null hypothesis\")\n",
    "        print(\"Fail to reject the null hypothesis\")\n",
    "        print(\"Data has a unit root and is non-stationary\")"
   ]
  },
  {
   "cell_type": "code",
   "execution_count": 35,
   "metadata": {},
   "outputs": [
    {
     "name": "stdout",
     "output_type": "stream",
     "text": [
      "Augmented Dickey-Fuller Test: \n",
      "ADF test statistic     -9.855384e+00\n",
      "p-value                 4.373545e-17\n",
      "# lags used             0.000000e+00\n",
      "# observations          1.190000e+02\n",
      "critical value (1%)    -3.486535e+00\n",
      "critical value (5%)    -2.886151e+00\n",
      "critical value (10%)   -2.579896e+00\n",
      "Strong evidence against the null hypothesis\n",
      "Reject the null hypothesis\n",
      "Data has no unit root and is stationary\n"
     ]
    }
   ],
   "source": [
    "adf_test(df2_arma['Births'])"
   ]
  },
  {
   "cell_type": "code",
   "execution_count": 36,
   "metadata": {},
   "outputs": [
    {
     "data": {
      "text/html": [
       "<table class=\"simpletable\">\n",
       "<caption>Statespace Model Results</caption>\n",
       "<tr>\n",
       "  <th>Dep. Variable:</th>           <td>y</td>        <th>  No. Observations:  </th>    <td>120</td>  \n",
       "</tr>\n",
       "<tr>\n",
       "  <th>Model:</th>                <td>SARIMAX</td>     <th>  Log Likelihood     </th> <td>-409.745</td>\n",
       "</tr>\n",
       "<tr>\n",
       "  <th>Date:</th>            <td>Sun, 11 Aug 2019</td> <th>  AIC                </th>  <td>823.489</td>\n",
       "</tr>\n",
       "<tr>\n",
       "  <th>Time:</th>                <td>06:05:53</td>     <th>  BIC                </th>  <td>829.064</td>\n",
       "</tr>\n",
       "<tr>\n",
       "  <th>Sample:</th>                  <td>0</td>        <th>  HQIC               </th>  <td>825.753</td>\n",
       "</tr>\n",
       "<tr>\n",
       "  <th></th>                      <td> - 120</td>      <th>                     </th>     <td> </td>   \n",
       "</tr>\n",
       "<tr>\n",
       "  <th>Covariance Type:</th>        <td>opg</td>       <th>                     </th>     <td> </td>   \n",
       "</tr>\n",
       "</table>\n",
       "<table class=\"simpletable\">\n",
       "<tr>\n",
       "      <td></td>         <th>coef</th>     <th>std err</th>      <th>z</th>      <th>P>|z|</th>  <th>[0.025</th>    <th>0.975]</th>  \n",
       "</tr>\n",
       "<tr>\n",
       "  <th>intercept</th> <td>   39.7833</td> <td>    0.687</td> <td>   57.896</td> <td> 0.000</td> <td>   38.437</td> <td>   41.130</td>\n",
       "</tr>\n",
       "<tr>\n",
       "  <th>sigma2</th>    <td>   54.1197</td> <td>    8.319</td> <td>    6.506</td> <td> 0.000</td> <td>   37.815</td> <td>   70.424</td>\n",
       "</tr>\n",
       "</table>\n",
       "<table class=\"simpletable\">\n",
       "<tr>\n",
       "  <th>Ljung-Box (Q):</th>          <td>44.41</td> <th>  Jarque-Bera (JB):  </th> <td>2.69</td>\n",
       "</tr>\n",
       "<tr>\n",
       "  <th>Prob(Q):</th>                <td>0.29</td>  <th>  Prob(JB):          </th> <td>0.26</td>\n",
       "</tr>\n",
       "<tr>\n",
       "  <th>Heteroskedasticity (H):</th> <td>0.80</td>  <th>  Skew:              </th> <td>0.26</td>\n",
       "</tr>\n",
       "<tr>\n",
       "  <th>Prob(H) (two-sided):</th>    <td>0.48</td>  <th>  Kurtosis:          </th> <td>2.48</td>\n",
       "</tr>\n",
       "</table><br/><br/>Warnings:<br/>[1] Covariance matrix calculated using the outer product of gradients (complex-step)."
      ],
      "text/plain": [
       "<class 'statsmodels.iolib.summary.Summary'>\n",
       "\"\"\"\n",
       "                           Statespace Model Results                           \n",
       "==============================================================================\n",
       "Dep. Variable:                      y   No. Observations:                  120\n",
       "Model:                        SARIMAX   Log Likelihood                -409.745\n",
       "Date:                Sun, 11 Aug 2019   AIC                            823.489\n",
       "Time:                        06:05:53   BIC                            829.064\n",
       "Sample:                             0   HQIC                           825.753\n",
       "                                - 120                                         \n",
       "Covariance Type:                  opg                                         \n",
       "==============================================================================\n",
       "                 coef    std err          z      P>|z|      [0.025      0.975]\n",
       "------------------------------------------------------------------------------\n",
       "intercept     39.7833      0.687     57.896      0.000      38.437      41.130\n",
       "sigma2        54.1197      8.319      6.506      0.000      37.815      70.424\n",
       "===================================================================================\n",
       "Ljung-Box (Q):                       44.41   Jarque-Bera (JB):                 2.69\n",
       "Prob(Q):                              0.29   Prob(JB):                         0.26\n",
       "Heteroskedasticity (H):               0.80   Skew:                             0.26\n",
       "Prob(H) (two-sided):                  0.48   Kurtosis:                         2.48\n",
       "===================================================================================\n",
       "\n",
       "Warnings:\n",
       "[1] Covariance matrix calculated using the outer product of gradients (complex-step).\n",
       "\"\"\""
      ]
     },
     "execution_count": 36,
     "metadata": {},
     "output_type": "execute_result"
    }
   ],
   "source": [
    "auto_arima(df2_arma['Births'],seasonal=True).summary()"
   ]
  },
  {
   "cell_type": "code",
   "execution_count": 37,
   "metadata": {
    "collapsed": true
   },
   "outputs": [],
   "source": [
    "#To forecast 1-month to the future\n",
    "train_df2 = df2_arma.iloc[:90]\n",
    "test_df2 = df2_arma.iloc[90:]"
   ]
  },
  {
   "cell_type": "code",
   "execution_count": 38,
   "metadata": {
    "collapsed": true
   },
   "outputs": [],
   "source": [
    "model_df2 = ARMA(train_df2['Births'],order=(2,2))"
   ]
  },
  {
   "cell_type": "code",
   "execution_count": 39,
   "metadata": {
    "collapsed": true
   },
   "outputs": [],
   "source": [
    "results_df2 = model_df2.fit()"
   ]
  },
  {
   "cell_type": "code",
   "execution_count": 41,
   "metadata": {},
   "outputs": [],
   "source": [
    "start = len(train_df2)\n",
    "end = len(train_df2) + len(test_df2) - 1"
   ]
  },
  {
   "cell_type": "code",
   "execution_count": 42,
   "metadata": {
    "collapsed": true
   },
   "outputs": [],
   "source": [
    "predictions_df2 = results_df2.predict(start,end).rename('ARMA 2 2 Predictions')"
   ]
  },
  {
   "cell_type": "code",
   "execution_count": 45,
   "metadata": {},
   "outputs": [
    {
     "data": {
      "text/plain": [
       "<matplotlib.axes._subplots.AxesSubplot at 0x2afa5db0c88>"
      ]
     },
     "execution_count": 45,
     "metadata": {},
     "output_type": "execute_result"
    },
    {
     "data": {
      "image/png": "[encoded data removed]",
      "text/plain": [
       "<matplotlib.figure.Figure at 0x2afa5db7f98>"
      ]
     },
     "metadata": {},
     "output_type": "display_data"
    }
   ],
   "source": [
    "test_df2['Births'].plot(figsize=(12,8),legend=True)\n",
    "predictions_df2.plot(legend=True)"
   ]
  },
  {
   "cell_type": "code",
   "execution_count": 46,
   "metadata": {},
   "outputs": [
    {
     "data": {
      "text/plain": [
       "39.777427822039044"
      ]
     },
     "execution_count": 46,
     "metadata": {},
     "output_type": "execute_result"
    }
   ],
   "source": [
    "predictions_df2.mean()"
   ]
  },
  {
   "cell_type": "code",
   "execution_count": 47,
   "metadata": {},
   "outputs": [
    {
     "data": {
      "text/plain": [
       "Births    39.833333\n",
       "dtype: float64"
      ]
     },
     "execution_count": 47,
     "metadata": {},
     "output_type": "execute_result"
    }
   ],
   "source": [
    "test_df2.mean()"
   ]
  },
  {
   "cell_type": "code",
   "execution_count": 48,
   "metadata": {
    "collapsed": true
   },
   "outputs": [],
   "source": [
    "#The mean of the test model and the prediction model is very similar."
   ]
  },
  {
   "cell_type": "markdown",
   "metadata": {},
   "source": [
    "# ARIMA"
   ]
  },
  {
   "cell_type": "code",
   "execution_count": 49,
   "metadata": {
    "collapsed": true
   },
   "outputs": [],
   "source": [
    "#Using data of link: https://fred.stlouisfed.org/series/INVCMRMT"
   ]
  },
  {
   "cell_type": "code",
   "execution_count": 51,
   "metadata": {},
   "outputs": [
    {
     "data": {
      "text/plain": [
       "<matplotlib.axes._subplots.AxesSubplot at 0x2afa5d9ebe0>"
      ]
     },
     "execution_count": 51,
     "metadata": {},
     "output_type": "execute_result"
    },
    {
     "data": {
      "image/png": "[encoded data removed]",
      "text/plain": [
       "<matplotlib.figure.Figure at 0x2afa635ae80>"
      ]
     },
     "metadata": {},
     "output_type": "display_data"
    }
   ],
   "source": [
    "df3.plot(figsize=(15,8))"
   ]
  },
  {
   "cell_type": "code",
   "execution_count": 52,
   "metadata": {
    "collapsed": true
   },
   "outputs": [],
   "source": [
    "from statsmodels.tsa.seasonal import seasonal_decompose"
   ]
  },
  {
   "cell_type": "code",
   "execution_count": 53,
   "metadata": {},
   "outputs": [
    {
     "data": {
      "image/png": "[encoded data removed]",
      "text/plain": [
       "<matplotlib.figure.Figure at 0x2afa6befa20>"
      ]
     },
     "metadata": {},
     "output_type": "display_data"
    }
   ],
   "source": [
    "results_df3_ETS = seasonal_decompose(df3['Inventories'],model='add')\n",
    "results_df3_ETS.plot();"
   ]
  },
  {
   "cell_type": "code",
   "execution_count": 54,
   "metadata": {},
   "outputs": [
    {
     "data": {
      "text/html": [
       "<table class=\"simpletable\">\n",
       "<caption>ARIMA Model Results</caption>\n",
       "<tr>\n",
       "  <th>Dep. Variable:</th>        <td>D.y</td>       <th>  No. Observations:  </th>    <td>263</td>   \n",
       "</tr>\n",
       "<tr>\n",
       "  <th>Model:</th>          <td>ARIMA(1, 1, 1)</td>  <th>  Log Likelihood     </th> <td>-2610.253</td>\n",
       "</tr>\n",
       "<tr>\n",
       "  <th>Method:</th>             <td>css-mle</td>     <th>  S.D. of innovations</th> <td>4938.267</td> \n",
       "</tr>\n",
       "<tr>\n",
       "  <th>Date:</th>          <td>Sun, 11 Aug 2019</td> <th>  AIC                </th> <td>5228.506</td> \n",
       "</tr>\n",
       "<tr>\n",
       "  <th>Time:</th>              <td>06:24:41</td>     <th>  BIC                </th> <td>5242.794</td> \n",
       "</tr>\n",
       "<tr>\n",
       "  <th>Sample:</th>                <td>1</td>        <th>  HQIC               </th> <td>5234.248</td> \n",
       "</tr>\n",
       "<tr>\n",
       "  <th></th>                       <td> </td>        <th>                     </th>     <td> </td>    \n",
       "</tr>\n",
       "</table>\n",
       "<table class=\"simpletable\">\n",
       "<tr>\n",
       "      <td></td>         <th>coef</th>     <th>std err</th>      <th>z</th>      <th>P>|z|</th>  <th>[0.025</th>    <th>0.975]</th>  \n",
       "</tr>\n",
       "<tr>\n",
       "  <th>const</th>     <td> 3440.8584</td> <td> 1312.000</td> <td>    2.623</td> <td> 0.009</td> <td>  869.386</td> <td> 6012.330</td>\n",
       "</tr>\n",
       "<tr>\n",
       "  <th>ar.L1.D.y</th> <td>    0.9037</td> <td>    0.039</td> <td>   23.412</td> <td> 0.000</td> <td>    0.828</td> <td>    0.979</td>\n",
       "</tr>\n",
       "<tr>\n",
       "  <th>ma.L1.D.y</th> <td>   -0.5731</td> <td>    0.076</td> <td>   -7.544</td> <td> 0.000</td> <td>   -0.722</td> <td>   -0.424</td>\n",
       "</tr>\n",
       "</table>\n",
       "<table class=\"simpletable\">\n",
       "<caption>Roots</caption>\n",
       "<tr>\n",
       "    <td></td>   <th>            Real</th>  <th>         Imaginary</th> <th>         Modulus</th>  <th>        Frequency</th>\n",
       "</tr>\n",
       "<tr>\n",
       "  <th>AR.1</th> <td>           1.1066</td> <td>          +0.0000j</td> <td>           1.1066</td> <td>           0.0000</td>\n",
       "</tr>\n",
       "<tr>\n",
       "  <th>MA.1</th> <td>           1.7449</td> <td>          +0.0000j</td> <td>           1.7449</td> <td>           0.0000</td>\n",
       "</tr>\n",
       "</table>"
      ],
      "text/plain": [
       "<class 'statsmodels.iolib.summary.Summary'>\n",
       "\"\"\"\n",
       "                             ARIMA Model Results                              \n",
       "==============================================================================\n",
       "Dep. Variable:                    D.y   No. Observations:                  263\n",
       "Model:                 ARIMA(1, 1, 1)   Log Likelihood               -2610.253\n",
       "Method:                       css-mle   S.D. of innovations           4938.267\n",
       "Date:                Sun, 11 Aug 2019   AIC                           5228.506\n",
       "Time:                        06:24:41   BIC                           5242.794\n",
       "Sample:                             1   HQIC                          5234.248\n",
       "                                                                              \n",
       "==============================================================================\n",
       "                 coef    std err          z      P>|z|      [0.025      0.975]\n",
       "------------------------------------------------------------------------------\n",
       "const       3440.8584   1312.000      2.623      0.009     869.386    6012.330\n",
       "ar.L1.D.y      0.9037      0.039     23.412      0.000       0.828       0.979\n",
       "ma.L1.D.y     -0.5731      0.076     -7.544      0.000      -0.722      -0.424\n",
       "                                    Roots                                    \n",
       "=============================================================================\n",
       "                  Real          Imaginary           Modulus         Frequency\n",
       "-----------------------------------------------------------------------------\n",
       "AR.1            1.1066           +0.0000j            1.1066            0.0000\n",
       "MA.1            1.7449           +0.0000j            1.7449            0.0000\n",
       "-----------------------------------------------------------------------------\n",
       "\"\"\""
      ]
     },
     "execution_count": 54,
     "metadata": {},
     "output_type": "execute_result"
    }
   ],
   "source": [
    "auto_arima(df3['Inventories'],seasonal=False).summary()"
   ]
  },
  {
   "cell_type": "code",
   "execution_count": 55,
   "metadata": {
    "collapsed": true
   },
   "outputs": [],
   "source": [
    "#train-test \n",
    "train_df3 = df3.iloc[:252]\n",
    "test_df3 = df3.iloc[252:]"
   ]
  },
  {
   "cell_type": "code",
   "execution_count": 56,
   "metadata": {
    "collapsed": true
   },
   "outputs": [],
   "source": [
    "model_df3 = ARIMA(train_df3['Inventories'],order=(1,1,1))\n"
   ]
  },
  {
   "cell_type": "code",
   "execution_count": 57,
   "metadata": {
    "collapsed": true
   },
   "outputs": [],
   "source": [
    "results_df3 = model_df3.fit()"
   ]
  },
  {
   "cell_type": "code",
   "execution_count": 58,
   "metadata": {},
   "outputs": [
    {
     "data": {
      "text/html": [
       "<table class=\"simpletable\">\n",
       "<caption>ARIMA Model Results</caption>\n",
       "<tr>\n",
       "  <th>Dep. Variable:</th>   <td>D.Inventories</td>  <th>  No. Observations:  </th>    <td>251</td>   \n",
       "</tr>\n",
       "<tr>\n",
       "  <th>Model:</th>          <td>ARIMA(1, 1, 1)</td>  <th>  Log Likelihood     </th> <td>-2486.394</td>\n",
       "</tr>\n",
       "<tr>\n",
       "  <th>Method:</th>             <td>css-mle</td>     <th>  S.D. of innovations</th> <td>4845.008</td> \n",
       "</tr>\n",
       "<tr>\n",
       "  <th>Date:</th>          <td>Sun, 11 Aug 2019</td> <th>  AIC                </th> <td>4980.788</td> \n",
       "</tr>\n",
       "<tr>\n",
       "  <th>Time:</th>              <td>06:32:26</td>     <th>  BIC                </th> <td>4994.890</td> \n",
       "</tr>\n",
       "<tr>\n",
       "  <th>Sample:</th>           <td>02-01-1997</td>    <th>  HQIC               </th> <td>4986.463</td> \n",
       "</tr>\n",
       "<tr>\n",
       "  <th></th>                 <td>- 12-01-2017</td>   <th>                     </th>     <td> </td>    \n",
       "</tr>\n",
       "</table>\n",
       "<table class=\"simpletable\">\n",
       "<tr>\n",
       "           <td></td>              <th>coef</th>     <th>std err</th>      <th>z</th>      <th>P>|z|</th>  <th>[0.025</th>    <th>0.975]</th>  \n",
       "</tr>\n",
       "<tr>\n",
       "  <th>const</th>               <td> 3233.7679</td> <td> 1344.917</td> <td>    2.404</td> <td> 0.017</td> <td>  597.779</td> <td> 5869.757</td>\n",
       "</tr>\n",
       "<tr>\n",
       "  <th>ar.L1.D.Inventories</th> <td>    0.9026</td> <td>    0.039</td> <td>   23.012</td> <td> 0.000</td> <td>    0.826</td> <td>    0.979</td>\n",
       "</tr>\n",
       "<tr>\n",
       "  <th>ma.L1.D.Inventories</th> <td>   -0.5581</td> <td>    0.079</td> <td>   -7.048</td> <td> 0.000</td> <td>   -0.713</td> <td>   -0.403</td>\n",
       "</tr>\n",
       "</table>\n",
       "<table class=\"simpletable\">\n",
       "<caption>Roots</caption>\n",
       "<tr>\n",
       "    <td></td>   <th>            Real</th>  <th>         Imaginary</th> <th>         Modulus</th>  <th>        Frequency</th>\n",
       "</tr>\n",
       "<tr>\n",
       "  <th>AR.1</th> <td>           1.1080</td> <td>          +0.0000j</td> <td>           1.1080</td> <td>           0.0000</td>\n",
       "</tr>\n",
       "<tr>\n",
       "  <th>MA.1</th> <td>           1.7918</td> <td>          +0.0000j</td> <td>           1.7918</td> <td>           0.0000</td>\n",
       "</tr>\n",
       "</table>"
      ],
      "text/plain": [
       "<class 'statsmodels.iolib.summary.Summary'>\n",
       "\"\"\"\n",
       "                             ARIMA Model Results                              \n",
       "==============================================================================\n",
       "Dep. Variable:          D.Inventories   No. Observations:                  251\n",
       "Model:                 ARIMA(1, 1, 1)   Log Likelihood               -2486.394\n",
       "Method:                       css-mle   S.D. of innovations           4845.008\n",
       "Date:                Sun, 11 Aug 2019   AIC                           4980.788\n",
       "Time:                        06:32:26   BIC                           4994.890\n",
       "Sample:                    02-01-1997   HQIC                          4986.463\n",
       "                         - 12-01-2017                                         \n",
       "=======================================================================================\n",
       "                          coef    std err          z      P>|z|      [0.025      0.975]\n",
       "---------------------------------------------------------------------------------------\n",
       "const                3233.7679   1344.917      2.404      0.017     597.779    5869.757\n",
       "ar.L1.D.Inventories     0.9026      0.039     23.012      0.000       0.826       0.979\n",
       "ma.L1.D.Inventories    -0.5581      0.079     -7.048      0.000      -0.713      -0.403\n",
       "                                    Roots                                    \n",
       "=============================================================================\n",
       "                  Real          Imaginary           Modulus         Frequency\n",
       "-----------------------------------------------------------------------------\n",
       "AR.1            1.1080           +0.0000j            1.1080            0.0000\n",
       "MA.1            1.7918           +0.0000j            1.7918            0.0000\n",
       "-----------------------------------------------------------------------------\n",
       "\"\"\""
      ]
     },
     "execution_count": 58,
     "metadata": {},
     "output_type": "execute_result"
    }
   ],
   "source": [
    "results_df3.summary()"
   ]
  },
  {
   "cell_type": "code",
   "execution_count": 70,
   "metadata": {},
   "outputs": [],
   "source": [
    "start_df3 = len(train_df3)\n",
    "end_df3 = len(train_df3) + len(test_df3) - 1\n",
    "predictions_df3 = results_df3.predict(start=start,end=end,typ='levels').rename('ARIMA 1 1 1 Predictions')"
   ]
  },
  {
   "cell_type": "code",
   "execution_count": 72,
   "metadata": {},
   "outputs": [
    {
     "data": {
      "text/plain": [
       "Date\n",
       "2004-07-01    1.604629e+06\n",
       "2004-08-01    1.615183e+06\n",
       "2004-09-01    1.622190e+06\n",
       "2004-10-01    1.615910e+06\n",
       "2004-11-01    1.625431e+06\n",
       "2004-12-01    1.636009e+06\n",
       "2005-01-01    1.635097e+06\n",
       "2005-02-01    1.653149e+06\n",
       "2005-03-01    1.663434e+06\n",
       "2005-04-01    1.664811e+06\n",
       "2005-05-01    1.664937e+06\n",
       "2005-06-01    1.661924e+06\n",
       "2005-07-01    1.664859e+06\n",
       "2005-08-01    1.659119e+06\n",
       "2005-09-01    1.664662e+06\n",
       "2005-10-01    1.671146e+06\n",
       "2005-11-01    1.680682e+06\n",
       "2005-12-01    1.685140e+06\n",
       "2006-01-01    1.695046e+06\n",
       "2006-02-01    1.701493e+06\n",
       "2006-03-01    1.697231e+06\n",
       "2006-04-01    1.708730e+06\n",
       "2006-05-01    1.711655e+06\n",
       "2006-06-01    1.719418e+06\n",
       "2006-07-01    1.725669e+06\n",
       "2006-08-01    1.725661e+06\n",
       "2006-09-01    1.735611e+06\n",
       "2006-10-01    1.741520e+06\n",
       "2006-11-01    1.738516e+06\n",
       "2006-12-01    1.747101e+06\n",
       "Freq: MS, Name: ARIMA 1 1 1 Predictions, dtype: float64"
      ]
     },
     "execution_count": 72,
     "metadata": {},
     "output_type": "execute_result"
    }
   ],
   "source": [
    "predictions_df3"
   ]
  },
  {
   "cell_type": "code",
   "execution_count": 75,
   "metadata": {},
   "outputs": [],
   "source": [
    "#forecasting "
   ]
  },
  {
   "cell_type": "code",
   "execution_count": 76,
   "metadata": {
    "collapsed": true
   },
   "outputs": [],
   "source": [
    "model_df3_forecast = ARIMA(df3['Inventories'],order=(1,1,1))"
   ]
  },
  {
   "cell_type": "code",
   "execution_count": 77,
   "metadata": {
    "collapsed": true
   },
   "outputs": [],
   "source": [
    "results_df3_forecast = model_df3_forecast.fit()"
   ]
  },
  {
   "cell_type": "code",
   "execution_count": 78,
   "metadata": {
    "collapsed": true
   },
   "outputs": [],
   "source": [
    "fcast_df3 = results_df3_forecast.predict(start=len(df3),end=len(df3)+11,typ='levels').rename(\"ARIMA 1 1 1 Forecast\")"
   ]
  },
  {
   "cell_type": "code",
   "execution_count": 80,
   "metadata": {},
   "outputs": [
    {
     "data": {
      "text/plain": [
       "<matplotlib.axes._subplots.AxesSubplot at 0x2afa769e438>"
      ]
     },
     "execution_count": 80,
     "metadata": {},
     "output_type": "execute_result"
    },
    {
     "data": {
      "image/png": "[encoded data removed]",
      "text/plain": [
       "<matplotlib.figure.Figure at 0x2afa76c21d0>"
      ]
     },
     "metadata": {},
     "output_type": "display_data"
    }
   ],
   "source": [
    "df3['Inventories'].plot(figsize=(12,8),legend=True)\n",
    "fcast_df3.plot(legend=True)"
   ]
  },
  {
   "cell_type": "code",
   "execution_count": 81,
   "metadata": {},
   "outputs": [
    {
     "data": {
      "text/plain": [
       "2019-01-01    2.165602e+06\n",
       "2019-02-01    2.172699e+06\n",
       "2019-03-01    2.179443e+06\n",
       "2019-04-01    2.185870e+06\n",
       "2019-05-01    2.192009e+06\n",
       "2019-06-01    2.197888e+06\n",
       "2019-07-01    2.203532e+06\n",
       "2019-08-01    2.208963e+06\n",
       "2019-09-01    2.214203e+06\n",
       "2019-10-01    2.219270e+06\n",
       "2019-11-01    2.224180e+06\n",
       "2019-12-01    2.228949e+06\n",
       "Freq: MS, Name: ARIMA 1 1 1 Forecast, dtype: float64"
      ]
     },
     "execution_count": 81,
     "metadata": {},
     "output_type": "execute_result"
    }
   ],
   "source": [
    "fcast_df3"
   ]
  },
  {
   "cell_type": "code",
   "execution_count": null,
   "metadata": {
    "collapsed": true
   },
   "outputs": [],
   "source": []
  }
 ],
 "metadata": {
  "kernelspec": {
   "display_name": "Python 3",
   "language": "python",
   "name": "python3"
  },
  "language_info": {
   "codemirror_mode": {
    "name": "ipython",
    "version": 3
   },
   "file_extension": ".py",
   "mimetype": "text/x-python",
   "name": "python",
   "nbconvert_exporter": "python",
   "pygments_lexer": "ipython3",
   "version": "3.6.3"
  }
 },
 "nbformat": 4,
 "nbformat_minor": 2
}
